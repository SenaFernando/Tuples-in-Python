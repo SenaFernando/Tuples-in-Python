{
 "cells": [
  {
   "cell_type": "markdown",
   "id": "1674aa39-e379-4a04-b434-13ebdfca79bf",
   "metadata": {},
   "source": [
    "## Tuples in Python"
   ]
  },
  {
   "cell_type": "code",
   "execution_count": 7,
   "id": "c97492e3-2964-45b6-9f44-e56e5006b7a4",
   "metadata": {},
   "outputs": [],
   "source": [
    "# Create your first tuple"
   ]
  },
  {
   "cell_type": "code",
   "execution_count": 9,
   "id": "77fa2f0f-1298-4ff1-b882-759e8f2183a5",
   "metadata": {},
   "outputs": [],
   "source": [
    "tuple1 = (\"disco\", 10, 1.2)"
   ]
  },
  {
   "cell_type": "code",
   "execution_count": 11,
   "id": "2055b6ff-059d-41c2-9edf-8e49dde8eb21",
   "metadata": {},
   "outputs": [
    {
     "data": {
      "text/plain": [
       "('disco', 10, 1.2)"
      ]
     },
     "execution_count": 11,
     "metadata": {},
     "output_type": "execute_result"
    }
   ],
   "source": [
    "tuple1"
   ]
  },
  {
   "cell_type": "code",
   "execution_count": 13,
   "id": "24feaf9e-a245-405e-8c78-adb50d79d2f5",
   "metadata": {},
   "outputs": [
    {
     "data": {
      "text/plain": [
       "tuple"
      ]
     },
     "execution_count": 13,
     "metadata": {},
     "output_type": "execute_result"
    }
   ],
   "source": [
    "type(tuple1)"
   ]
  },
  {
   "cell_type": "code",
   "execution_count": 15,
   "id": "35ecab0c-0a52-4703-964d-ad6c68cbeb23",
   "metadata": {},
   "outputs": [
    {
     "name": "stdout",
     "output_type": "stream",
     "text": [
      "tuple[0]\n",
      "tuple[1]\n",
      "tuple[2]\n"
     ]
    }
   ],
   "source": [
    "print(tuple[0])\n",
    "print(tuple[1])\n",
    "print(tuple[2])"
   ]
  },
  {
   "cell_type": "code",
   "execution_count": 17,
   "id": "2f9d9645-c026-4b86-8854-a6b71e7542b4",
   "metadata": {},
   "outputs": [
    {
     "data": {
      "text/plain": [
       "1.2"
      ]
     },
     "execution_count": 17,
     "metadata": {},
     "output_type": "execute_result"
    }
   ],
   "source": [
    "tuple1[-1]"
   ]
  },
  {
   "cell_type": "code",
   "execution_count": 19,
   "id": "c384cf59-97e8-491d-a9ed-45885e0c50f6",
   "metadata": {},
   "outputs": [],
   "source": [
    "# Concatenate two tuples"
   ]
  },
  {
   "cell_type": "code",
   "execution_count": 21,
   "id": "d5e3ae67-6ffd-4a06-95b3-269c97f51846",
   "metadata": {},
   "outputs": [],
   "source": [
    "tuple2 = tuple1 + (\"hard rock\", 10)"
   ]
  },
  {
   "cell_type": "code",
   "execution_count": 23,
   "id": "f570417c-146c-4dec-880e-5bc93e5ddcec",
   "metadata": {},
   "outputs": [
    {
     "data": {
      "text/plain": [
       "('disco', 10, 1.2, 'hard rock', 10)"
      ]
     },
     "execution_count": 23,
     "metadata": {},
     "output_type": "execute_result"
    }
   ],
   "source": [
    "tuple2"
   ]
  },
  {
   "cell_type": "markdown",
   "id": "3b4bb483-69d2-473a-a324-dc98a88c8925",
   "metadata": {},
   "source": [
    "## Slicing"
   ]
  },
  {
   "cell_type": "code",
   "execution_count": 26,
   "id": "cf644e47-3bba-4824-81c7-7c815f859295",
   "metadata": {},
   "outputs": [
    {
     "data": {
      "text/plain": [
       "('disco', 10, 1.2)"
      ]
     },
     "execution_count": 26,
     "metadata": {},
     "output_type": "execute_result"
    }
   ],
   "source": [
    "# Slice from index 0 to index 2\n",
    "tuple2[0:3]"
   ]
  },
  {
   "cell_type": "code",
   "execution_count": 28,
   "id": "a558396b-a431-406a-bad2-aedf3ae64c7a",
   "metadata": {},
   "outputs": [
    {
     "data": {
      "text/plain": [
       "('hard rock', 10)"
      ]
     },
     "execution_count": 28,
     "metadata": {},
     "output_type": "execute_result"
    }
   ],
   "source": [
    "# Slice from index 3 to index 4\n",
    "tuple2[3:5]"
   ]
  },
  {
   "cell_type": "code",
   "execution_count": 30,
   "id": "461ce04e-e8ce-48d4-8ca5-3a8cbe6f88f3",
   "metadata": {},
   "outputs": [
    {
     "data": {
      "text/plain": [
       "5"
      ]
     },
     "execution_count": 30,
     "metadata": {},
     "output_type": "execute_result"
    }
   ],
   "source": [
    "len(tuple2)"
   ]
  },
  {
   "cell_type": "markdown",
   "id": "5cd9662c-3266-475b-b2d8-9e6246950312",
   "metadata": {},
   "source": [
    "## Sorting"
   ]
  },
  {
   "cell_type": "code",
   "execution_count": 33,
   "id": "fc8a61b3-8bef-49ad-8c3d-b3307a0abce2",
   "metadata": {},
   "outputs": [],
   "source": [
    "# A sample tuple"
   ]
  },
  {
   "cell_type": "code",
   "execution_count": 35,
   "id": "c47ad6c4-c729-45f4-a74d-f673676cfa47",
   "metadata": {},
   "outputs": [],
   "source": [
    "Ratings = (0, 9, 6, 5, 10, 8, 9, 6, 2)"
   ]
  },
  {
   "cell_type": "code",
   "execution_count": 37,
   "id": "2705e9ad-57ef-40b9-9774-45da45be02b5",
   "metadata": {},
   "outputs": [
    {
     "name": "stdout",
     "output_type": "stream",
     "text": [
      "[0, 2, 5, 6, 6, 8, 9, 9, 10]\n"
     ]
    }
   ],
   "source": [
    "sorting_rates = sorted(Ratings)\n",
    "print(sorting_rates)"
   ]
  },
  {
   "cell_type": "markdown",
   "id": "647c3cdf-cda8-42d7-bc82-bb7e6d2a8f82",
   "metadata": {},
   "source": [
    "## Nested Tuple\n",
    "A tuple can contain another tuple as well as other more complex data types. This process is called 'nesting'. Consider the following tuple with several elements:"
   ]
  },
  {
   "cell_type": "code",
   "execution_count": 41,
   "id": "71a999d6-b280-43ae-9bda-7d07584e9149",
   "metadata": {},
   "outputs": [],
   "source": [
    "# Create a nest tuple"
   ]
  },
  {
   "cell_type": "code",
   "execution_count": 45,
   "id": "cb9092f9-b3a4-4248-9e9e-7846b1917bdb",
   "metadata": {},
   "outputs": [],
   "source": [
    "NestedT = (1, 2, (\"pop\", \"rock\"), (3, 4), (\"disco\",(1, 2)))"
   ]
  },
  {
   "cell_type": "code",
   "execution_count": 47,
   "id": "2e0624ca-f0cc-4f8e-9c48-e7bae61a1d77",
   "metadata": {},
   "outputs": [
    {
     "data": {
      "text/plain": [
       "(1, 2, ('pop', 'rock'), (3, 4), ('disco', (1, 2)))"
      ]
     },
     "execution_count": 47,
     "metadata": {},
     "output_type": "execute_result"
    }
   ],
   "source": [
    "NestedT"
   ]
  },
  {
   "cell_type": "code",
   "execution_count": 49,
   "id": "eb60d122-ab74-4444-992c-61fe590a5a3b",
   "metadata": {},
   "outputs": [
    {
     "name": "stdout",
     "output_type": "stream",
     "text": [
      "(1, 2, ('pop', 'rock'), (3, 4), ('disco', (1, 2)))\n"
     ]
    }
   ],
   "source": [
    "print(NestedT[0:5])"
   ]
  },
  {
   "cell_type": "code",
   "execution_count": 51,
   "id": "84be5089-c8f6-49fc-b6bc-950cab62618f",
   "metadata": {},
   "outputs": [],
   "source": [
    "# Print element on each index, including nest indexes\n"
   ]
  },
  {
   "cell_type": "code",
   "execution_count": 62,
   "id": "e6d6d8f8-4ec5-4164-a545-8418ad07a95b",
   "metadata": {},
   "outputs": [
    {
     "name": "stdout",
     "output_type": "stream",
     "text": [
      "Element 4, 0 of Tuple:  disco\n"
     ]
    }
   ],
   "source": [
    "print(\"Element 4, 0 of Tuple: \", NestedT[4] [0])"
   ]
  },
  {
   "cell_type": "code",
   "execution_count": 64,
   "id": "9832cefe-7a47-4d3a-b9a8-f113891ebb78",
   "metadata": {},
   "outputs": [],
   "source": [
    "# Print the first element in the second nested tuples"
   ]
  },
  {
   "cell_type": "code",
   "execution_count": 66,
   "id": "7c08cdda-2816-48b1-92d8-9b1e150d071a",
   "metadata": {},
   "outputs": [
    {
     "data": {
      "text/plain": [
       "1"
      ]
     },
     "execution_count": 66,
     "metadata": {},
     "output_type": "execute_result"
    }
   ],
   "source": [
    "NestedT[4][1][0]"
   ]
  },
  {
   "cell_type": "code",
   "execution_count": 68,
   "id": "d19a1542-fcc9-4e20-b157-bb2fa64431bb",
   "metadata": {},
   "outputs": [
    {
     "data": {
      "text/plain": [
       "2"
      ]
     },
     "execution_count": 68,
     "metadata": {},
     "output_type": "execute_result"
    }
   ],
   "source": [
    "NestedT[4][1][1]"
   ]
  },
  {
   "cell_type": "markdown",
   "id": "5a911414-d90f-477d-9179-055fac918b54",
   "metadata": {},
   "source": [
    "## Quiz on Tuples"
   ]
  },
  {
   "cell_type": "code",
   "execution_count": 73,
   "id": "fda8c2ea-574a-4277-83b0-e5ae1a10ab4b",
   "metadata": {},
   "outputs": [],
   "source": [
    "# sample tuple"
   ]
  },
  {
   "cell_type": "code",
   "execution_count": 75,
   "id": "0d2aed77-edf0-4e7a-b34b-324239728ce7",
   "metadata": {},
   "outputs": [],
   "source": [
    "genres_tuple = (\"pop\", \"rock\", \"soul\", \"hard rock\", \"soft rock\", \\\n",
    "                \"R&B\", \"progressive rock\", \"disco\") "
   ]
  },
  {
   "cell_type": "code",
   "execution_count": 77,
   "id": "8d4b6b61-0ccc-4da7-99bb-c806d9dd3136",
   "metadata": {},
   "outputs": [
    {
     "data": {
      "text/plain": [
       "('pop',\n",
       " 'rock',\n",
       " 'soul',\n",
       " 'hard rock',\n",
       " 'soft rock',\n",
       " 'R&B',\n",
       " 'progressive rock',\n",
       " 'disco')"
      ]
     },
     "execution_count": 77,
     "metadata": {},
     "output_type": "execute_result"
    }
   ],
   "source": [
    "genres_tuple"
   ]
  },
  {
   "cell_type": "code",
   "execution_count": 79,
   "id": "889578b1-210c-4112-9340-a4201a797ae6",
   "metadata": {},
   "outputs": [
    {
     "data": {
      "text/plain": [
       "8"
      ]
     },
     "execution_count": 79,
     "metadata": {},
     "output_type": "execute_result"
    }
   ],
   "source": [
    "len(genres_tuple)"
   ]
  },
  {
   "cell_type": "code",
   "execution_count": 81,
   "id": "f8debee1-323c-417c-983a-1dbc12c42897",
   "metadata": {},
   "outputs": [
    {
     "data": {
      "text/plain": [
       "'hard rock'"
      ]
     },
     "execution_count": 81,
     "metadata": {},
     "output_type": "execute_result"
    }
   ],
   "source": [
    "genres_tuple[3]"
   ]
  },
  {
   "cell_type": "code",
   "execution_count": 85,
   "id": "dcf54761-53c9-4e15-aed7-459adb0ec280",
   "metadata": {},
   "outputs": [
    {
     "data": {
      "text/plain": [
       "('hard rock', 'soft rock', 'R&B')"
      ]
     },
     "execution_count": 85,
     "metadata": {},
     "output_type": "execute_result"
    }
   ],
   "source": [
    "genres_tuple[3:6]"
   ]
  },
  {
   "cell_type": "code",
   "execution_count": 87,
   "id": "a9b426ea-3e71-4e45-8ccb-dc766a0a24f1",
   "metadata": {},
   "outputs": [
    {
     "data": {
      "text/plain": [
       "2"
      ]
     },
     "execution_count": 87,
     "metadata": {},
     "output_type": "execute_result"
    }
   ],
   "source": [
    "\"disco\".find(\"s\")"
   ]
  },
  {
   "cell_type": "code",
   "execution_count": 89,
   "id": "df6e3e57-3eab-47e5-bc16-f1d47e8dcfcd",
   "metadata": {},
   "outputs": [],
   "source": [
    "## Generate a sorted List from the Tuple C_tuple=(-5, 1, -3)"
   ]
  },
  {
   "cell_type": "code",
   "execution_count": 95,
   "id": "07578361-63a8-46cb-abab-0e8c9e731eb8",
   "metadata": {},
   "outputs": [],
   "source": [
    "C_tuple=(-5, 1, -3)"
   ]
  },
  {
   "cell_type": "code",
   "execution_count": 99,
   "id": "25915ba0-5d4c-47e2-93eb-519764af6f0c",
   "metadata": {},
   "outputs": [],
   "source": [
    "sorted_tuple = sorted(C_tuple)"
   ]
  },
  {
   "cell_type": "code",
   "execution_count": 103,
   "id": "66b31614-0b7d-4a19-aa6f-90dc01260058",
   "metadata": {},
   "outputs": [
    {
     "data": {
      "text/plain": [
       "[-5, -3, 1]"
      ]
     },
     "execution_count": 103,
     "metadata": {},
     "output_type": "execute_result"
    }
   ],
   "source": [
    "sorted_tuple"
   ]
  },
  {
   "cell_type": "code",
   "execution_count": 108,
   "id": "3c90bb8c-313b-4167-b9f4-b6401c0e27ce",
   "metadata": {},
   "outputs": [],
   "source": [
    "say_what=('say','what','you','will') "
   ]
  },
  {
   "cell_type": "code",
   "execution_count": 110,
   "id": "3c55bd81-c2b7-41e0-8dd2-464c99c5a5b8",
   "metadata": {},
   "outputs": [
    {
     "data": {
      "text/plain": [
       "'will'"
      ]
     },
     "execution_count": 110,
     "metadata": {},
     "output_type": "execute_result"
    }
   ],
   "source": [
    "say_what[-1]"
   ]
  },
  {
   "cell_type": "code",
   "execution_count": 112,
   "id": "3f135d0a-b850-48e7-8b7f-d0fbbd1830f0",
   "metadata": {},
   "outputs": [],
   "source": [
    "A=(1,2,3,4,5)"
   ]
  },
  {
   "cell_type": "code",
   "execution_count": 114,
   "id": "32b8bead-c99e-4c4e-8814-8f5c51472809",
   "metadata": {},
   "outputs": [
    {
     "data": {
      "text/plain": [
       "(2, 3, 4)"
      ]
     },
     "execution_count": 114,
     "metadata": {},
     "output_type": "execute_result"
    }
   ],
   "source": [
    "A[1:4]"
   ]
  },
  {
   "cell_type": "code",
   "execution_count": 116,
   "id": "e479c2d3-1d91-4016-9a27-d23f33bd81e6",
   "metadata": {},
   "outputs": [
    {
     "data": {
      "text/plain": [
       "[1, 2, 3, 1, 1, 1]"
      ]
     },
     "execution_count": 116,
     "metadata": {},
     "output_type": "execute_result"
    }
   ],
   "source": [
    "[1,2,3] + [1,1,1]"
   ]
  },
  {
   "cell_type": "code",
   "execution_count": 118,
   "id": "18ea7ff2-ed3d-4816-9781-8ee2152058c6",
   "metadata": {},
   "outputs": [],
   "source": [
    "A = [1]"
   ]
  },
  {
   "cell_type": "code",
   "execution_count": 120,
   "id": "a2bcccde-f5a0-4f2a-a37d-213d946f2fe6",
   "metadata": {},
   "outputs": [],
   "source": [
    "A.append([2, 3, 4, 5])"
   ]
  },
  {
   "cell_type": "code",
   "execution_count": 122,
   "id": "0b5c82e8-8506-4f77-b461-be950f7a2a7f",
   "metadata": {},
   "outputs": [
    {
     "data": {
      "text/plain": [
       "[1, [2, 3, 4, 5]]"
      ]
     },
     "execution_count": 122,
     "metadata": {},
     "output_type": "execute_result"
    }
   ],
   "source": [
    "A"
   ]
  },
  {
   "cell_type": "code",
   "execution_count": 124,
   "id": "3e54f417-1614-426e-8271-905f1538b78b",
   "metadata": {},
   "outputs": [
    {
     "data": {
      "text/plain": [
       "2"
      ]
     },
     "execution_count": 124,
     "metadata": {},
     "output_type": "execute_result"
    }
   ],
   "source": [
    "len(A)"
   ]
  },
  {
   "cell_type": "code",
   "execution_count": null,
   "id": "280a21b1-faae-44c1-ad24-db1cb30ac2ec",
   "metadata": {},
   "outputs": [],
   "source": []
  }
 ],
 "metadata": {
  "kernelspec": {
   "display_name": "Python 3 (ipykernel)",
   "language": "python",
   "name": "python3"
  },
  "language_info": {
   "codemirror_mode": {
    "name": "ipython",
    "version": 3
   },
   "file_extension": ".py",
   "mimetype": "text/x-python",
   "name": "python",
   "nbconvert_exporter": "python",
   "pygments_lexer": "ipython3",
   "version": "3.12.4"
  }
 },
 "nbformat": 4,
 "nbformat_minor": 5
}
